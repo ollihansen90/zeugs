{
  "nbformat": 4,
  "nbformat_minor": 0,
  "metadata": {
    "colab": {
      "provenance": [],
      "authorship_tag": "ABX9TyMfuDZxheVRr9BL8dKmVExW",
      "include_colab_link": true
    },
    "kernelspec": {
      "name": "python3",
      "display_name": "Python 3"
    },
    "language_info": {
      "name": "python"
    }
  },
  "cells": [
    {
      "cell_type": "markdown",
      "metadata": {
        "id": "view-in-github",
        "colab_type": "text"
      },
      "source": [
        "<a href=\"https://colab.research.google.com/github/ollihansen90/zeugs/blob/main/RandomDecisionForest.ipynb\" target=\"_parent\"><img src=\"https://colab.research.google.com/assets/colab-badge.svg\" alt=\"Open In Colab\"/></a>"
      ]
    },
    {
      "cell_type": "code",
      "execution_count": 13,
      "metadata": {
        "colab": {
          "base_uri": "https://localhost:8080/",
          "height": 265
        },
        "id": "UXvzzEqp-jxL",
        "outputId": "7667f27e-02b4-4070-fbe8-454b2ec7cd83"
      },
      "outputs": [
        {
          "output_type": "display_data",
          "data": {
            "text/plain": [
              "<Figure size 432x288 with 1 Axes>"
            ],
            "image/png": "[encoded data removed]"
          },
          "metadata": {
            "needs_background": "light"
          }
        }
      ],
      "source": [
        "import requests\n",
        "import matplotlib.pyplot as plt\n",
        "import numpy as np\n",
        "r = requests.get(\"https://raw.githubusercontent.com/ollihansen90/zeugs/main/ML_utils.py\")\n",
        "with open(\"utils.py\", \"w\") as file:\n",
        "    file.write(r.text)\n",
        "\n",
        "from utils import get_data, plot_stuff\n",
        "\n",
        "data, label = get_data(100, 2, mus=np.array([[0,0], [1,1]]), vars=[0.5,0.5])\n",
        "plot_stuff(data, label)"
      ]
    },
    {
      "cell_type": "code",
      "source": [
        "class Forest():\n",
        "    # TODO:\n",
        "    #   - ALLES\n",
        "    def __init__(self, num_trees):\n",
        "        pass\n",
        "\n",
        "class Tree():\n",
        "    # TODO:\n",
        "    #   - Multiklassen-Decisiontree\n",
        "    #   - Allgemeine Maß-Funktion (vllt. als Methode)\n",
        "    def __init__(self, links=None, rechts=None, depth=0):\n",
        "        # Input:\n",
        "        #   links, rechts: Entweder Knoten oder np.float\n",
        "        #   depth: Tiefe des Knoten im Baum\n",
        "        self.links = links\n",
        "        self.rechts = rechts\n",
        "        self.depth = depth\n",
        "        self.thresh = None  # Entscheidungsbarriere\n",
        "        self.obs = None     # Welche Observable wird betrachtet?\n",
        "\n",
        "    def __call__(self, x):\n",
        "        # Forward-Pass\n",
        "        # Input:\n",
        "        #   x: Zu klassifizierender Punkt\n",
        "        # Output:\n",
        "        #   Nächster Knoten oder Klasse\n",
        "        output = x[self.obs]>=self.thresh\n",
        "        if output:\n",
        "            if isinstance(self.rechts, Tree):\n",
        "                return self.rechts(x)\n",
        "            else:\n",
        "                return self.rechts\n",
        "        else:\n",
        "            if isinstance(self.links, Tree):\n",
        "                return self.links(x)\n",
        "            else:\n",
        "                return self.links\n",
        "    \n",
        "    def learn(self, x, label, obslist=None, maxdepth=3, minlen=5):\n",
        "        # Lernmethode:\n",
        "        # Input:\n",
        "        #   x: Zu fittende Daten\n",
        "        #   label: Label zu gefittete Daten\n",
        "        #   obslist: Liste der Observablen, die zur Entscheidung beitragen sollen\n",
        "        #   maxdepth: Abbruchbedingung für maximale Tiefe des Baums\n",
        "        #   minlen: Minimale Anzahl Punkte zur Entscheidung\n",
        "\n",
        "        # Abbruch, wenn\n",
        "        #   - Alle Label gleich sind (np.var(label)==0)\n",
        "        #   - Maximale Tiefe ist erreicht (self.depth==maxdepth)\n",
        "        #   - Anzahl Punkte für Entscheidung wird zu klein (len(label<=minlen))\n",
        "        # Setze self.links und self.rechts auf \"mittleres\" Label, self.thresh und\n",
        "        #   self.obs auf irgendwelche Werte, damit keine Fehler bei Forward-Pass\n",
        "        #   auftreten\n",
        "        # Später: Multiklassen nicht mehr mittleres Label sondern häufigstes\n",
        "        #   Label \n",
        "        if np.var(label)==0 or self.depth==maxdepth or len(label)<=minlen:\n",
        "            self.links = self.rechts = np.mean(label)\n",
        "            self.thresh = 0.5\n",
        "            self.obs = 0\n",
        "            return\n",
        "\n",
        "        # Setze obslist auf alle Observablen, wenn keine explizit vorgegeben werden\n",
        "        if not obslist:\n",
        "            obslist = range(len(x[0]))\n",
        "\n",
        "        # Suche Threshold mit \"bester\" Unterteilung\n",
        "        # Hier: Summe der Varianzen der Unterteilungen (für zwei Klassen)\n",
        "        # Später: irgendein Maß, z.B. Entropie\n",
        "        globmin = np.infty\n",
        "        globargmin = -1\n",
        "        globobs = -1\n",
        "        measure = lambda x1, x2: np.var(x1)+np.var(x2) \n",
        "        for obs in obslist:\n",
        "            values = x[:,obs]\n",
        "            for val in values:\n",
        "                kleiner = x[x[:, obs]<val, obs]\n",
        "                groesser = x[x[:, obs]>=val, obs]\n",
        "                if len(kleiner)==0 or len(groesser)==0:\n",
        "                    continue\n",
        "                loss = measure(kleiner, groesser)\n",
        "                if loss<globmin:\n",
        "                    globmin = loss\n",
        "                    globargmin = val\n",
        "                    globobs = obs\n",
        "        self.thresh = globargmin\n",
        "        self.obs = obs\n",
        "\n",
        "        # Bestimme Nachfolger self.links und self.rechts und trainiere direkt\n",
        "        self.links = Tree(depth=self.depth+1)\n",
        "        self.links.learn(x[x[:, obs]<globargmin], label[x[:, obs]<globargmin], maxdepth=maxdepth, minlen=minlen)\n",
        "        self.rechts = Tree(depth=self.depth+1)\n",
        "        self.rechts.learn(x[x[:, obs]>=globargmin], label[x[:, obs]>=globargmin], maxdepth=maxdepth, minlen=minlen)\n",
        "\n",
        "t = Tree()\n",
        "t.learn(data, label)\n",
        "print(t(np.array([0.5,0.6])))"
      ],
      "metadata": {
        "colab": {
          "base_uri": "https://localhost:8080/"
        },
        "id": "7E3BKYGY38AN",
        "outputId": "300a3ded-7474-4c99-9c63-e864561c028f"
      },
      "execution_count": 32,
      "outputs": [
        {
          "output_type": "stream",
          "name": "stdout",
          "text": [
            "0.6 0.778532418674035\n",
            "0.6 -0.13458040081173336\n",
            "0.6 0.2837608303177432\n",
            "0.5 0.5\n",
            "0.5833333333333334\n"
          ]
        }
      ]
    },
    {
      "cell_type": "code",
      "source": [],
      "metadata": {
        "id": "TCQUwIRIlCfS"
      },
      "execution_count": null,
      "outputs": []
    }
  ]
}